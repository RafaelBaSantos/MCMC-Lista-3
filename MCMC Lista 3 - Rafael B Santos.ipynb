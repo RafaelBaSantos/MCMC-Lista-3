{
 "cells": [
  {
   "cell_type": "code",
   "execution_count": 1,
   "id": "b7401622-69e0-40e5-bf6c-11cf2e80ed1f",
   "metadata": {
    "tags": []
   },
   "outputs": [],
   "source": [
    "import pandas as pd\n",
    "import numpy as np\n",
    "import matplotlib.pyplot as plt\n",
    "import seaborn as sns\n",
    "import math\n",
    "from numpy.linalg import eigvals\n",
    "import numpy.random as rd\n",
    "from copy import copy"
   ]
  },
  {
   "cell_type": "markdown",
   "id": "baed5541-2532-4c03-8c60-f1fd475ed4f5",
   "metadata": {},
   "source": [
    "# Questão 2.3"
   ]
  },
  {
   "cell_type": "markdown",
   "id": "db85773c-10e3-470e-afa3-9303f3b895da",
   "metadata": {},
   "source": [
    "### Grafo em anel"
   ]
  },
  {
   "cell_type": "code",
   "execution_count": 2,
   "id": "c0a7dba1-3b65-4082-88eb-ceb4b0e1a396",
   "metadata": {},
   "outputs": [],
   "source": [
    "P_anel = np.zeros((100, 100))\n",
    "\n",
    "for i in range(100):\n",
    "    for j in range(100):\n",
    "        if (abs(i-j)==1) or (i==0 and j==99) or (i==99 and j==0):\n",
    "            P_anel[i, j] = 1/4\n",
    "        elif i==j:\n",
    "            P_anel[i, j] = 1/2\n",
    "\n",
    "pi_anel = np.array([1/100]*100)\n",
    "\n",
    "p_anel_inicial = np.array([1] + [0]*99)\n",
    "\n",
    "ls_dtv_anel = []\n",
    "ls_t = []\n",
    "p_local = p_anel_inicial\n",
    "for t in range(103):\n",
    "    p_local = np.matmul(p_local, P_anel)\n",
    "    ls_dtv_anel.append(sum(abs(p_local - pi_anel)))\n",
    "    ls_t.append(t+1)\n",
    "\n",
    "df_anel = pd.DataFrame({\"t\": ls_t, \"dtv\": ls_dtv_anel})"
   ]
  },
  {
   "cell_type": "markdown",
   "id": "c2359a04-a257-408c-b189-3c0a6f9c328d",
   "metadata": {},
   "source": [
    "### Grafo Árvore Binária Cheia"
   ]
  },
  {
   "cell_type": "code",
   "execution_count": 3,
   "id": "4947c306-9362-4aee-a8ea-bacaf8e28ed1",
   "metadata": {},
   "outputs": [],
   "source": [
    "P_arvore = np.zeros((127, 127))\n",
    "\n",
    "for i in range(1,128):\n",
    "    for j in range(1,128):\n",
    "        if (i==j) or (i > 63 and j == math.floor(i/2)):\n",
    "            P_arvore[i-1, j-1] = 1/2\n",
    "        elif (i==1) and (j in (2, 3)):\n",
    "            P_arvore[i-1, j-1] = 1/4\n",
    "        elif (i>=1 and i <= 63) and (j in (math.floor(i/2), 2*i, 2*i+1)):\n",
    "            P_arvore[i-1, j-1] = 1/6\n",
    "\n",
    "pi_arvore = np.zeros(127)\n",
    "for i in range(1, 128):\n",
    "    if i == 1:\n",
    "        pi_arvore[i-1] = 1/126\n",
    "    if (i >= 2) and (i <= 63):\n",
    "        pi_arvore[i-1] = 1/84\n",
    "    else:\n",
    "        pi_arvore[i-1] = 1/252\n",
    "\n",
    "p_arvore_inicial = np.array([1] + [0]*126)\n",
    "\n",
    "ls_dtv_arvore = []\n",
    "ls_t = []\n",
    "p_local = p_arvore_inicial\n",
    "for t in range(103):\n",
    "    p_local = np.matmul(p_local, P_arvore)\n",
    "    ls_dtv_arvore.append(sum(abs(p_local - pi_arvore)))\n",
    "    ls_t.append(t+1)\n",
    "\n",
    "df_arvore = pd.DataFrame({\"t\": ls_t, \"dtv\": ls_dtv_arvore})"
   ]
  },
  {
   "cell_type": "markdown",
   "id": "84c26374-798d-4528-8d9c-b5b40c96ebf3",
   "metadata": {},
   "source": [
    "### Grafo em Grid 2D"
   ]
  },
  {
   "cell_type": "code",
   "execution_count": 4,
   "id": "4218e5b2-f4c6-4235-8c81-25ec452a1d18",
   "metadata": {},
   "outputs": [],
   "source": [
    "P_grid = np.zeros((100, 100))\n",
    "\n",
    "for xi in range(1, 11):\n",
    "    for yi in range(1, 11):\n",
    "        for xj in range(1, 11):\n",
    "            for yj in range(1, 11):\n",
    "\n",
    "                i = int(str(xi-1) + str(yi-1))\n",
    "                j = int(str(xj-1) + str(yj-1))\n",
    "                \n",
    "                if (xi == xj) and (yi == yj):\n",
    "                    P_grid[i, j] = 1/2\n",
    "                elif (abs(xi - xj) + abs(yi - yj)) == 1:\n",
    "                    if (xi in (1, 10)) ^ (yi in (1, 10)):\n",
    "                        P_grid[i, j] = 1/6\n",
    "                    elif (xi in (1, 10)) and (yi in (1, 10)):\n",
    "                        P_grid[i, j] = 1/4\n",
    "                    else:\n",
    "                        P_grid[i, j] = 1/8"
   ]
  },
  {
   "cell_type": "code",
   "execution_count": 5,
   "id": "3f8d2a7f-b866-401d-8c74-43c3e7402c2e",
   "metadata": {},
   "outputs": [],
   "source": [
    "pi_grid = np.zeros(100)\n",
    "\n",
    "for xi in range(1, 11):\n",
    "    for yi in range(1, 11):\n",
    "        i = int(str(xi-1) + str(yi-1))\n",
    "        if (xi in (1, 10)) ^ (yi in (1, 10)):\n",
    "            pi_grid[i] = 1/120\n",
    "        elif (xi in (1, 10)) and (yi in (1, 10)):\n",
    "            pi_grid[i] = 1/180\n",
    "        else:\n",
    "            pi_grid[i] = 1/90"
   ]
  },
  {
   "cell_type": "code",
   "execution_count": 6,
   "id": "d66f9f86-1792-474d-b691-5151c10f1057",
   "metadata": {},
   "outputs": [],
   "source": [
    "p_grid_inicial = np.array([1] + [0]*99)"
   ]
  },
  {
   "cell_type": "code",
   "execution_count": 7,
   "id": "44cd1cea-cb31-4ce3-8303-7e7e4476cecc",
   "metadata": {},
   "outputs": [],
   "source": [
    "ls_dtv_grid = []\n",
    "ls_t = []\n",
    "p_local = p_grid_inicial\n",
    "for t in range(103):\n",
    "    p_local = np.matmul(p_local, P_grid)\n",
    "    ls_dtv_grid.append(sum(abs(p_local - pi_grid)))\n",
    "    ls_t.append(t+1)\n",
    "\n",
    "df_grid = pd.DataFrame({\"t\": ls_t, \"dtv\": ls_dtv_grid})"
   ]
  },
  {
   "cell_type": "markdown",
   "id": "1b1db477-58b8-4d15-be84-d03938b073ce",
   "metadata": {},
   "source": [
    "### Plotando gráficos"
   ]
  },
  {
   "cell_type": "code",
   "execution_count": 8,
   "id": "6d0b2306-40a5-41df-8df3-16fad16134ec",
   "metadata": {},
   "outputs": [],
   "source": [
    "df_anel[\"tipo\"] = \"anel\"\n",
    "df_arvore[\"tipo\"] = \"arvore\"\n",
    "df_grid[\"tipo\"] = \"grid\"\n",
    "df_grafos = pd.concat([df_anel, df_arvore, df_grid])"
   ]
  },
  {
   "cell_type": "code",
   "execution_count": 29,
   "id": "45e1f976-3105-4e54-8cfd-31e301f89016",
   "metadata": {},
   "outputs": [
    {
     "data": {
      "image/png": "[encoded data removed]",
      "text/plain": [
       "<Figure size 640x480 with 1 Axes>"
      ]
     },
     "metadata": {},
     "output_type": "display_data"
    }
   ],
   "source": [
    "sns.scatterplot(df_grafos, x=\"t\", y=\"dtv\", hue=\"tipo\").set_title(\"Distância de Variação Total por número de passos\")\n",
    "plt.yscale('log')"
   ]
  },
  {
   "cell_type": "markdown",
   "id": "ec09fdb7-81ab-4fde-80e7-7f05e89edf63",
   "metadata": {},
   "source": [
    "O grafo em árvore é o que converge mais rápido, seguido do grafo em grid e depois o grafo em anel."
   ]
  },
  {
   "cell_type": "markdown",
   "id": "6e1d8ce0-0df6-450d-9eb8-16cde1ee347c",
   "metadata": {},
   "source": [
    "### Questão 3.1"
   ]
  },
  {
   "cell_type": "code",
   "execution_count": 10,
   "id": "afe1cb41-0e45-439c-be85-42264af76151",
   "metadata": {},
   "outputs": [],
   "source": [
    "def matriz_dist(p):\n",
    "    P = np.zeros((10, 10))\n",
    "    \n",
    "    for i in range(1, 11):\n",
    "        for j in range(1, 11):\n",
    "            if (j - i == 1) or ((i == j) and (i == 10)):\n",
    "                P[i-1, j-1] = p\n",
    "            elif j == 1:\n",
    "                P[i-1, j-1] = 1-p\n",
    "    return P"
   ]
  },
  {
   "cell_type": "code",
   "execution_count": 11,
   "id": "6885e090-7920-45dd-be2e-9a4f8c7d252b",
   "metadata": {},
   "outputs": [
    {
     "data": {
      "text/plain": [
       "array([[0.75, 0.25, 0.  , 0.  , 0.  , 0.  , 0.  , 0.  , 0.  , 0.  ],\n",
       "       [0.75, 0.  , 0.25, 0.  , 0.  , 0.  , 0.  , 0.  , 0.  , 0.  ],\n",
       "       [0.75, 0.  , 0.  , 0.25, 0.  , 0.  , 0.  , 0.  , 0.  , 0.  ],\n",
       "       [0.75, 0.  , 0.  , 0.  , 0.25, 0.  , 0.  , 0.  , 0.  , 0.  ],\n",
       "       [0.75, 0.  , 0.  , 0.  , 0.  , 0.25, 0.  , 0.  , 0.  , 0.  ],\n",
       "       [0.75, 0.  , 0.  , 0.  , 0.  , 0.  , 0.25, 0.  , 0.  , 0.  ],\n",
       "       [0.75, 0.  , 0.  , 0.  , 0.  , 0.  , 0.  , 0.25, 0.  , 0.  ],\n",
       "       [0.75, 0.  , 0.  , 0.  , 0.  , 0.  , 0.  , 0.  , 0.25, 0.  ],\n",
       "       [0.75, 0.  , 0.  , 0.  , 0.  , 0.  , 0.  , 0.  , 0.  , 0.25],\n",
       "       [0.75, 0.  , 0.  , 0.  , 0.  , 0.  , 0.  , 0.  , 0.  , 0.25]])"
      ]
     },
     "execution_count": 11,
     "metadata": {},
     "output_type": "execute_result"
    }
   ],
   "source": [
    "matriz_dist_25 = matriz_dist(0.25)\n",
    "matriz_dist_25"
   ]
  },
  {
   "cell_type": "code",
   "execution_count": 12,
   "id": "cd99cdc1-a9d3-4513-b973-27fbe43a0eff",
   "metadata": {},
   "outputs": [
    {
     "data": {
      "text/plain": [
       "array([[0.5, 0.5, 0. , 0. , 0. , 0. , 0. , 0. , 0. , 0. ],\n",
       "       [0.5, 0. , 0.5, 0. , 0. , 0. , 0. , 0. , 0. , 0. ],\n",
       "       [0.5, 0. , 0. , 0.5, 0. , 0. , 0. , 0. , 0. , 0. ],\n",
       "       [0.5, 0. , 0. , 0. , 0.5, 0. , 0. , 0. , 0. , 0. ],\n",
       "       [0.5, 0. , 0. , 0. , 0. , 0.5, 0. , 0. , 0. , 0. ],\n",
       "       [0.5, 0. , 0. , 0. , 0. , 0. , 0.5, 0. , 0. , 0. ],\n",
       "       [0.5, 0. , 0. , 0. , 0. , 0. , 0. , 0.5, 0. , 0. ],\n",
       "       [0.5, 0. , 0. , 0. , 0. , 0. , 0. , 0. , 0.5, 0. ],\n",
       "       [0.5, 0. , 0. , 0. , 0. , 0. , 0. , 0. , 0. , 0.5],\n",
       "       [0.5, 0. , 0. , 0. , 0. , 0. , 0. , 0. , 0. , 0.5]])"
      ]
     },
     "execution_count": 12,
     "metadata": {},
     "output_type": "execute_result"
    }
   ],
   "source": [
    "matriz_dist_50 = matriz_dist(0.5)\n",
    "matriz_dist_50"
   ]
  },
  {
   "cell_type": "code",
   "execution_count": 13,
   "id": "0d22a7c4-f3b7-4ad7-918a-a5fc70908263",
   "metadata": {},
   "outputs": [
    {
     "data": {
      "text/plain": [
       "array([[0.25, 0.75, 0.  , 0.  , 0.  , 0.  , 0.  , 0.  , 0.  , 0.  ],\n",
       "       [0.25, 0.  , 0.75, 0.  , 0.  , 0.  , 0.  , 0.  , 0.  , 0.  ],\n",
       "       [0.25, 0.  , 0.  , 0.75, 0.  , 0.  , 0.  , 0.  , 0.  , 0.  ],\n",
       "       [0.25, 0.  , 0.  , 0.  , 0.75, 0.  , 0.  , 0.  , 0.  , 0.  ],\n",
       "       [0.25, 0.  , 0.  , 0.  , 0.  , 0.75, 0.  , 0.  , 0.  , 0.  ],\n",
       "       [0.25, 0.  , 0.  , 0.  , 0.  , 0.  , 0.75, 0.  , 0.  , 0.  ],\n",
       "       [0.25, 0.  , 0.  , 0.  , 0.  , 0.  , 0.  , 0.75, 0.  , 0.  ],\n",
       "       [0.25, 0.  , 0.  , 0.  , 0.  , 0.  , 0.  , 0.  , 0.75, 0.  ],\n",
       "       [0.25, 0.  , 0.  , 0.  , 0.  , 0.  , 0.  , 0.  , 0.  , 0.75],\n",
       "       [0.25, 0.  , 0.  , 0.  , 0.  , 0.  , 0.  , 0.  , 0.  , 0.75]])"
      ]
     },
     "execution_count": 13,
     "metadata": {},
     "output_type": "execute_result"
    }
   ],
   "source": [
    "matriz_dist_75 = matriz_dist(0.75)\n",
    "matriz_dist_75"
   ]
  },
  {
   "cell_type": "markdown",
   "id": "550735df-f044-42b5-9f35-1dbbd2ed4260",
   "metadata": {},
   "source": [
    "### Questão 3.2"
   ]
  },
  {
   "cell_type": "code",
   "execution_count": 14,
   "id": "759ed703-41e4-4fa1-ad96-36397aadb063",
   "metadata": {},
   "outputs": [],
   "source": [
    "def vao_espectral(P):\n",
    "    autovalores = eigvals(P)\n",
    "    autovalores = abs(autovalores)\n",
    "    autovalores.sort()\n",
    "    vao_espectral = autovalores[-1] - autovalores[-2]\n",
    "    return vao_espectral"
   ]
  },
  {
   "cell_type": "code",
   "execution_count": 15,
   "id": "33450659-a630-43c4-9938-3f0d82fafb54",
   "metadata": {},
   "outputs": [],
   "source": [
    "vao_espectral_25 = vao_espectral(matriz_dist_25)\n",
    "vao_espectral_50 = vao_espectral(matriz_dist_50)\n",
    "vao_espectral_75 = vao_espectral(matriz_dist_75)"
   ]
  },
  {
   "cell_type": "code",
   "execution_count": 16,
   "id": "99a8f1ef-8e6c-4068-99d4-605978d89104",
   "metadata": {},
   "outputs": [
    {
     "name": "stdout",
     "output_type": "stream",
     "text": [
      "Vão espectral para p = 0.25: 0.9993651641633324\n",
      "Vão espectral para p = 0.5: 0.9996200031652042\n",
      "Vão espectral para p = 0.75: 0.9996008705059756\n"
     ]
    }
   ],
   "source": [
    "print(\"Vão espectral para p = 0.25: \" + str(float(vao_espectral_25)))\n",
    "print(\"Vão espectral para p = 0.5: \" + str(float(vao_espectral_50)))\n",
    "print(\"Vão espectral para p = 0.75: \" + str(float(vao_espectral_75)))"
   ]
  },
  {
   "cell_type": "markdown",
   "id": "08896a80-73c5-418e-a606-32d5f7bdebe4",
   "metadata": {},
   "source": [
    "### Questão 3.3"
   ]
  },
  {
   "cell_type": "code",
   "execution_count": 17,
   "id": "151972ff-c22b-4162-a840-4d353937bf20",
   "metadata": {},
   "outputs": [],
   "source": [
    "def estimar_P(P, p_inicial, n):\n",
    "    p_local = p_inicial\n",
    "    for t in range(n):\n",
    "        p_local = np.matmul(p_local, P)\n",
    "#        ls_dtv_anel.append(sum(abs(p_local - pi_anel)))\n",
    "#        ls_t.append(t+1)\n",
    "    return p_local"
   ]
  },
  {
   "cell_type": "code",
   "execution_count": 18,
   "id": "07edcd02-a252-411d-9509-c28e668ebb33",
   "metadata": {},
   "outputs": [],
   "source": [
    "p_inicial = np.array([1] + [0]*9)\n",
    "\n",
    "pi_25 = estimar_P(matriz_dist_25, p_inicial, 1000)\n",
    "pi_50 = estimar_P(matriz_dist_50, p_inicial, 1000)\n",
    "pi_75 = estimar_P(matriz_dist_75, p_inicial, 1000)\n",
    "\n",
    "min_pi_25 = min(pi_25)\n",
    "min_pi_50 = min(pi_50)\n",
    "min_pi_75 = min(pi_75)"
   ]
  },
  {
   "cell_type": "code",
   "execution_count": 19,
   "id": "245fa886-77a2-4b1e-b2d2-52b807e4a59d",
   "metadata": {},
   "outputs": [
    {
     "name": "stdout",
     "output_type": "stream",
     "text": [
      "Estado de menor probabilidade para p = 0.25: 10 com valor 3.814697265625e-06\n",
      "Estado de menor probabilidade para p = 0.50: 9 com valor 0.001953125\n",
      "Estado de menor probabilidade para p = 0.75: 9 com valor 0.025028228759765625\n"
     ]
    }
   ],
   "source": [
    "print(\"Estado de menor probabilidade para p = 0.25: \" + str(np.where(pi_25 == min_pi_25)[0][0]+1) + \" com valor \" + str(min_pi_25))\n",
    "print(\"Estado de menor probabilidade para p = 0.50: \" + str(np.where(pi_50 == min_pi_50)[0][0]+1) + \" com valor \" + str(min_pi_50))\n",
    "print(\"Estado de menor probabilidade para p = 0.75: \" + str(np.where(pi_75 == min_pi_75)[0][0]+1) + \" com valor \" + str(min_pi_75))"
   ]
  },
  {
   "cell_type": "markdown",
   "id": "3a3ba60e-6951-4dce-b24d-a14d0b50ea7c",
   "metadata": {},
   "source": [
    "### Questão 3.4"
   ]
  },
  {
   "cell_type": "code",
   "execution_count": 20,
   "id": "44fed475-70ee-4ddb-932b-a0455129216b",
   "metadata": {},
   "outputs": [],
   "source": [
    "def estimar_tempo_de_mistura(vao_espectral, min_pi, e=0.000001):\n",
    "    lim_inf = (1/vao_espectral-1)*np.log(1/(2*e))\n",
    "    lim_sup = np.log(1/(min_pi*e))/vao_espectral\n",
    "    return lim_inf, lim_sup"
   ]
  },
  {
   "cell_type": "code",
   "execution_count": 21,
   "id": "79a64706-7f44-48aa-b74b-aee323fd3c0c",
   "metadata": {},
   "outputs": [],
   "source": [
    "lim_inf_25, lim_sup_25 = estimar_tempo_de_mistura(vao_espectral_25, min_pi_25)\n",
    "lim_inf_50, lim_sup_50 = estimar_tempo_de_mistura(vao_espectral_50, min_pi_50)\n",
    "lim_inf_75, lim_sup_75 = estimar_tempo_de_mistura(vao_espectral_75, min_pi_75)"
   ]
  },
  {
   "cell_type": "code",
   "execution_count": 22,
   "id": "47119f27-fbfa-4313-ad2f-18f4186d4dd1",
   "metadata": {},
   "outputs": [
    {
     "name": "stdout",
     "output_type": "stream",
     "text": [
      "Tempo de mistura para p = 0.25. Limite inferior: 0.008335838422710778. Limite superior: 26.308861616219193\n",
      "Tempo de mistura para p = 0.50. Limite inferior: 0.004988352106464704. Limite superior: 20.061458473725185\n",
      "Tempo de mistura para p = 0.75. Limite inferior: 0.00523961353952955. Limite superior: 17.510250356063267\n"
     ]
    }
   ],
   "source": [
    "print(\"Tempo de mistura para p = 0.25. Limite inferior: \" + str(lim_inf_25) + \". Limite superior: \" + str(lim_sup_25))\n",
    "print(\"Tempo de mistura para p = 0.50. Limite inferior: \" + str(lim_inf_50) + \". Limite superior: \" + str(lim_sup_50))\n",
    "print(\"Tempo de mistura para p = 0.75. Limite inferior: \" + str(lim_inf_75) + \". Limite superior: \" + str(lim_sup_75))"
   ]
  },
  {
   "cell_type": "markdown",
   "id": "e85ff451-1be4-471a-90f1-3a91599ba116",
   "metadata": {},
   "source": [
    "Quanto maior o p, menor é o tempo de mistura"
   ]
  },
  {
   "cell_type": "markdown",
   "id": "6b231eae-50aa-4723-b20b-9dc2917adf3b",
   "metadata": {},
   "source": [
    "### Questão 4.1"
   ]
  },
  {
   "cell_type": "code",
   "execution_count": 24,
   "id": "a4cd6163-ef4c-4d43-ab2b-26a39731c364",
   "metadata": {},
   "outputs": [],
   "source": [
    "class SimuladorMarkov():\n",
    "    def __init__(self, p):\n",
    "        self.X = [1, 1]\n",
    "        self.p = p\n",
    "        self.t = 0\n",
    "        self.historico_estados = []\n",
    "        self.historico_tempos_retornos = []\n",
    "\n",
    "    def andar_n_passos(self, n):\n",
    "        for i in range(n):\n",
    "            self.t += 1\n",
    "            rd_local = rd.random()\n",
    "            if rd_local < self.p/2:\n",
    "                self.X[0] = self.X[0] + 1\n",
    "            elif rd_local < self.p:\n",
    "                self.X[1] = self.X[1] + 1\n",
    "            elif rd_local < (1+self.p)/2:\n",
    "                if (self.X[0]-1 >= 1):\n",
    "                    self.X[0] = self.X[0]-1\n",
    "            else:\n",
    "                if (self.X[1]-1 >= 1):\n",
    "                    self.X[1] = self.X[1]-1\n",
    "            self.historico_estados.append(copy(self.X))\n",
    "            if self.X == [1, 1]:\n",
    "                self.historico_tempos_retornos.append(copy(self.t))\n",
    "                self.t = 0\n",
    "\n",
    "    def calcular_dist_origem(self):\n",
    "        return abs(self.X[0]-1)+abs(self.X[1]-1)\n",
    "\n",
    "    def retornar_estimador_pi(self):\n",
    "        return 1/np.mean(self.historico_tempos_retornos)"
   ]
  },
  {
   "cell_type": "markdown",
   "id": "a0f6483e-3187-4850-87cd-0709d146f3c1",
   "metadata": {},
   "source": [
    "### Questão 4.2"
   ]
  },
  {
   "cell_type": "code",
   "execution_count": 31,
   "id": "56db9861-1b0f-4d00-aef6-00594c4a322c",
   "metadata": {},
   "outputs": [
    {
     "name": "stdout",
     "output_type": "stream",
     "text": [
      "Valor estimado de pi para p = 0.25: 0.44292\n"
     ]
    }
   ],
   "source": [
    "p = 0.25\n",
    "simulador = SimuladorMarkov(p)\n",
    "simulador.andar_n_passos(100000)\n",
    "print(\"Valor estimado de pi para p = 0.25: \" + str(simulador.retornar_estimador_pi()))"
   ]
  },
  {
   "cell_type": "code",
   "execution_count": 33,
   "id": "a7fc6076-2af1-4a25-8c82-bdd42912d0a2",
   "metadata": {},
   "outputs": [
    {
     "name": "stdout",
     "output_type": "stream",
     "text": [
      "Valor estimado de pi para p = 0.35: 0.2089341786835737\n"
     ]
    }
   ],
   "source": [
    "p = 0.35\n",
    "simulador = SimuladorMarkov(p)\n",
    "simulador.andar_n_passos(100000)\n",
    "print(\"Valor estimado de pi para p = 0.35: \" + str(simulador.retornar_estimador_pi()))"
   ]
  },
  {
   "cell_type": "code",
   "execution_count": 34,
   "id": "7dfa2cc1-5f04-4d7d-8ee2-5dcf3e20b4b6",
   "metadata": {},
   "outputs": [
    {
     "name": "stdout",
     "output_type": "stream",
     "text": [
      "Valor estimado de pi para p = 0.45: 0.03159789947486871\n"
     ]
    }
   ],
   "source": [
    "p = 0.45\n",
    "simulador = SimuladorMarkov(p)\n",
    "simulador.andar_n_passos(100000)\n",
    "print(\"Valor estimado de pi para p = 0.45: \" + str(simulador.retornar_estimador_pi()))"
   ]
  },
  {
   "cell_type": "markdown",
   "id": "e36350b5-5831-4cf7-beca-52cdca0f04a9",
   "metadata": {},
   "source": [
    "### Questão 4.3"
   ]
  },
  {
   "cell_type": "code",
   "execution_count": 30,
   "id": "413ab75a-08cb-4e01-a071-e5ab51a55709",
   "metadata": {},
   "outputs": [
    {
     "name": "stdout",
     "output_type": "stream",
     "text": [
      "Distância a origem estimada para n=10 e p=0.25 igual a 0.8582\n",
      "Distância a origem estimada para n=10 e p=0.35 igual a 1.4434\n",
      "Distância a origem estimada para n=10 e p=0.45 igual a 2.218\n",
      "Distância a origem estimada para n=100 e p=0.25 igual a 0.9841\n",
      "Distância a origem estimada para n=100 e p=0.35 igual a 2.2735\n",
      "Distância a origem estimada para n=100 e p=0.45 igual a 6.2166\n",
      "Distância a origem estimada para n=1000 e p=0.25 igual a 1.0179\n",
      "Distância a origem estimada para n=1000 e p=0.35 igual a 2.3092\n",
      "Distância a origem estimada para n=1000 e p=0.45 igual a 9.0242\n"
     ]
    }
   ],
   "source": [
    "for n in (10, 100, 1000):\n",
    "    for p in (0.25, 0.35, 0.45):\n",
    "        ls_dist_origem = []\n",
    "        for i in range(10000):\n",
    "            simulador = SimuladorMarkov(p)\n",
    "            simulador.andar_n_passos(n)\n",
    "            dist_origem = simulador.calcular_dist_origem()\n",
    "            ls_dist_origem.append(dist_origem)\n",
    "        mean_dist_origem = np.mean(ls_dist_origem)\n",
    "        print(\"Distância a origem estimada para n=\" + str(n) + \" e p=\" + str(p) + \" igual a \" + str(mean_dist_origem))"
   ]
  },
  {
   "cell_type": "code",
   "execution_count": null,
   "id": "6c583157-cba8-4286-b278-08780fd19413",
   "metadata": {},
   "outputs": [],
   "source": []
  }
 ],
 "metadata": {
  "kernelspec": {
   "display_name": "Python 3 (ipykernel)",
   "language": "python",
   "name": "python3"
  },
  "language_info": {
   "codemirror_mode": {
    "name": "ipython",
    "version": 3
   },
   "file_extension": ".py",
   "mimetype": "text/x-python",
   "name": "python",
   "nbconvert_exporter": "python",
   "pygments_lexer": "ipython3",
   "version": "3.11.3"
  }
 },
 "nbformat": 4,
 "nbformat_minor": 5
}
